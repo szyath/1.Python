{
 "cells": [
  {
   "cell_type": "code",
   "execution_count": 4,
   "id": "f48fe850",
   "metadata": {},
   "outputs": [
    {
     "name": "stdout",
     "output_type": "stream",
     "text": [
      "Assignment-1\n"
     ]
    }
   ],
   "source": [
    "print(\"Assignment-1\")"
   ]
  },
  {
   "cell_type": "code",
   "execution_count": 12,
   "id": "da39ae58",
   "metadata": {},
   "outputs": [
    {
     "name": "stdout",
     "output_type": "stream",
     "text": [
      "Body Mass Index\n",
      "40\n"
     ]
    }
   ],
   "source": [
    "print(\"Body Mass Index\")\n",
    "num1=10\n",
    "num2=30\n",
    "add=num1+num2\n",
    "print(add)"
   ]
  },
  {
   "cell_type": "code",
   "execution_count": 19,
   "id": "8245a0d8",
   "metadata": {},
   "outputs": [
    {
     "name": "stdout",
     "output_type": "stream",
     "text": [
      "enter the bmi:34\n"
     ]
    }
   ],
   "source": [
    "bmi=int(input(\"enter the bmi:\"))\n"
   ]
  },
  {
   "cell_type": "code",
   "execution_count": 25,
   "id": "48560669",
   "metadata": {},
   "outputs": [
    {
     "name": "stdout",
     "output_type": "stream",
     "text": [
      "Very Over Weight\n"
     ]
    }
   ],
   "source": [
    "if(bmi<=34):\n",
    "    print(\"Very Over Weight\")\n",
    "else:\n",
    "    print(\"Normal\")"
   ]
  },
  {
   "cell_type": "code",
   "execution_count": null,
   "id": "a8d3bd23",
   "metadata": {},
   "outputs": [],
   "source": []
  }
 ],
 "metadata": {
  "kernelspec": {
   "display_name": "Python 3 (ipykernel)",
   "language": "python",
   "name": "python3"
  },
  "language_info": {
   "codemirror_mode": {
    "name": "ipython",
    "version": 3
   },
   "file_extension": ".py",
   "mimetype": "text/x-python",
   "name": "python",
   "nbconvert_exporter": "python",
   "pygments_lexer": "ipython3",
   "version": "3.11.5"
  }
 },
 "nbformat": 4,
 "nbformat_minor": 5
}
